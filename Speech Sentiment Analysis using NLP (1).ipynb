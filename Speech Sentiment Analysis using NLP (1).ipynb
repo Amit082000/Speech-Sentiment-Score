{
 "cells": [
  {
   "cell_type": "code",
   "execution_count": 1,
   "metadata": {},
   "outputs": [],
   "source": [
    "\n",
    "def get_sentiment_score(file):                      \n",
    "    import speech_recognition as sr\n",
    "    import os \n",
    "    from pydub import AudioSegment\n",
    "    from pydub.silence import split_on_silence\n",
    "\n",
    "\n",
    "    r = sr.Recognizer()              #using recognizer to convert speech to text\n",
    "\n",
    "    \n",
    "    sound = AudioSegment.from_wav(file)  \n",
    "    \n",
    "    chunks = split_on_silence(sound,\n",
    "        min_silence_len = 500,\n",
    "      \n",
    "        silence_thresh = sound.dBFS-14,\n",
    "       \n",
    "        keep_silence=500,\n",
    "    )\n",
    "    folder_name = \"audio-chunks\"\n",
    "    if not os.path.isdir(folder_name):\n",
    "        os.mkdir(folder_name)\n",
    "    Text = \"\"\n",
    "  \n",
    "    for i, audio_chunk in enumerate(chunks, start=1):\n",
    "        \n",
    "        chunk_filename = os.path.join(folder_name, f\"chunk{i}.wav\")\n",
    "        audio_chunk.export(chunk_filename, format=\"wav\")\n",
    "        \n",
    "        with sr.AudioFile(chunk_filename) as source:\n",
    "            audio_listened = r.record(source)\n",
    "          \n",
    "            try:\n",
    "                text = r.recognize_google(audio_listened)\n",
    "            except sr.UnknownValueError as e:\n",
    "                 pass\n",
    "            else:\n",
    "                text = f\"{text.capitalize()}. \"\n",
    "                \n",
    "                Text += text \n",
    "    #using NLP to get import words\n",
    "    import re \n",
    "    import nltk\n",
    "    from nltk.corpus import stopwords\n",
    "    from nltk.stem.porter import PorterStemmer\n",
    "\n",
    "    imp_words = []\n",
    "    for i in range(1):\n",
    "        val = re.sub('[^a-zA-Z]' , ' ',Text)\n",
    "        val  = val.lower()\n",
    "        val = val.split()\n",
    "        ps = PorterStemmer()\n",
    "        val = [ps.stem(word) for word in val if word not in set(stopwords.words('English'))]\n",
    "        val  = ' '.join(val)\n",
    "        imp_words.append(val)\n",
    "   #finding sentiment score\n",
    "    from textblob import TextBlob\n",
    "\n",
    "    for value in imp_words:\n",
    "        sentiment_score =round(TextBlob(value).sentiment.polarity,3)\n",
    "        print(sentiment_score)\n",
    "    "
   ]
  },
  {
   "cell_type": "code",
   "execution_count": 2,
   "metadata": {},
   "outputs": [
    {
     "name": "stdout",
     "output_type": "stream",
     "text": [
      "exampl1.wav\n"
     ]
    },
    {
     "name": "stderr",
     "output_type": "stream",
     "text": [
      "C:\\Users\\amitd\\anaconda3\\lib\\site-packages\\pydub\\utils.py:170: RuntimeWarning: Couldn't find ffmpeg or avconv - defaulting to ffmpeg, but may not work\n",
      "  warn(\"Couldn't find ffmpeg or avconv - defaulting to ffmpeg, but may not work\", RuntimeWarning)\n"
     ]
    },
    {
     "name": "stdout",
     "output_type": "stream",
     "text": [
      "0.082\n"
     ]
    }
   ],
   "source": [
    "file = input()\n",
    "get_sentiment_score(file)"
   ]
  },
  {
   "cell_type": "code",
   "execution_count": null,
   "metadata": {},
   "outputs": [],
   "source": [
    "    "
   ]
  },
  {
   "cell_type": "code",
   "execution_count": null,
   "metadata": {},
   "outputs": [],
   "source": []
  },
  {
   "cell_type": "code",
   "execution_count": null,
   "metadata": {},
   "outputs": [],
   "source": []
  }
 ],
 "metadata": {
  "kernelspec": {
   "display_name": "Python 3 (ipykernel)",
   "language": "python",
   "name": "python3"
  },
  "language_info": {
   "codemirror_mode": {
    "name": "ipython",
    "version": 3
   },
   "file_extension": ".py",
   "mimetype": "text/x-python",
   "name": "python",
   "nbconvert_exporter": "python",
   "pygments_lexer": "ipython3",
   "version": "3.8.11"
  }
 },
 "nbformat": 4,
 "nbformat_minor": 4
}
